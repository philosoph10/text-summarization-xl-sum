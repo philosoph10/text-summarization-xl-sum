{
 "cells": [
  {
   "cell_type": "code",
   "execution_count": 1,
   "metadata": {},
   "outputs": [],
   "source": [
    "import json\n",
    "\n",
    "import nltk\n",
    "from nltk.tokenize import sent_tokenize\n",
    "\n",
    "from rouge_score import rouge_scorer"
   ]
  },
  {
   "cell_type": "code",
   "execution_count": 2,
   "metadata": {},
   "outputs": [
    {
     "name": "stderr",
     "output_type": "stream",
     "text": [
      "[nltk_data] Downloading package punkt to /root/nltk_data...\n",
      "[nltk_data]   Package punkt is already up-to-date!\n",
      "[nltk_data] Downloading package punkt_tab to /root/nltk_data...\n",
      "[nltk_data]   Package punkt_tab is already up-to-date!\n"
     ]
    },
    {
     "data": {
      "text/plain": [
       "True"
      ]
     },
     "execution_count": 2,
     "metadata": {},
     "output_type": "execute_result"
    }
   ],
   "source": [
    "nltk.download(\"punkt\")\n",
    "nltk.download(\"punkt_tab\")"
   ]
  },
  {
   "cell_type": "markdown",
   "metadata": {},
   "source": [
    "# Load dataset"
   ]
  },
  {
   "cell_type": "code",
   "execution_count": 3,
   "metadata": {},
   "outputs": [],
   "source": [
    "def load_dataset(file_path):\n",
    "    data = []\n",
    "    with open(file_path, 'r', encoding='utf-8') as file:\n",
    "        for line in file:\n",
    "            try:\n",
    "                data.append(json.loads(line))\n",
    "            except json.JSONDecodeError as e:\n",
    "                print(f\"Error decoding JSON on line: {line}\")\n",
    "                print(f\"Error: {e}\")\n",
    "    return data"
   ]
  },
  {
   "cell_type": "code",
   "execution_count": 4,
   "metadata": {},
   "outputs": [],
   "source": [
    "train_pth = 'data/train_data.jsonl'\n",
    "val_pth = 'data/val_data.jsonl'\n",
    "test_pth = 'data/test_data.jsonl'\n",
    "\n",
    "train_data = load_dataset(train_pth)\n",
    "val_data = load_dataset(val_pth)\n",
    "test_data = load_dataset(test_pth)"
   ]
  },
  {
   "cell_type": "code",
   "execution_count": 5,
   "metadata": {},
   "outputs": [
    {
     "data": {
      "text/plain": [
       "[{'id': 'features-41015786',\n",
       "  'url': 'https://www.bbc.com/ukrainian/features-41015786',\n",
       "  'title': 'Стінопис: від Філадельфії до Рабата',\n",
       "  'summary': 'Вже кілька років на київських багатоповерхівках з\\'являються сюжети з неприборканої уяви майстрів графіті з усього світу. Лише цього серпня принаймні на три прикрашені живописом стіни в столиці стало більше: \"Просте щастя\" - обличчя усміхненого чорношкірого хлопченяти, меморіальний портрет виконавця Linkin Park Честера Беннінгтона і філософська фреска \"Розум, тіло і душа\".',\n",
       "  'text': 'Якщо для Києва \"наскельне мистецтво\" явище відносно нове, то на Заході - майже класичне. От лише деякі з графіті, які потрапили в фотооб\\'єктив мандрівника Андрія Кондратьєва. За великим рахунком, зображення у печері Ласко у Франції, яким, як вважають вчені, приблизно 17 тисяч років, - теж графіті. Але сучасна версія стінопису зародилася в Сполучених Штатах - у Нью-Йорку і Філадельфії. І в останній еволюціонувала і стала частиною міського ДНК. Там скупчено більше муралів, ніж будь-де в країні. Адже ще у 1984 році затвердили програму, однією з цілей якої було забезпечити спраглих до експериментальної на той час творчості митців цегляним \"полотном\", на якому вони могли творити. Результат - близько трьох тисяч мистецьких робіт. Окрему нішу серед вуличних художників Філадельфії займає Ісаї Загар, який працює у жанрі мозаїки. Він трансформував багато невиразних місцевих фасадів у притаманній йому чудернацькій манері, використовуючи биті пляшки, кахельні черепки та дзеркальні скалки. Найвідомішою колекцією графіті у Європі є, напевно, East Side Gallery. Це вцілілий довжиною в більш як кілометр шмат Берлінського муру, на якому понад сотня художників після возз\\'єднання Німеччини зобразили свій погляд на тогочасну буремну реальність. Більшість - з політичною конотацією - як на муралі росіянина Дмитра Врубеля з епохальним поцілунком Леоніда Брежнєва та Еріка Хонеккера. У Празі є своя \"політична\" стіна - названа на честь Джона Леннона. Її почали розмальовувати, зокрема, рядками з пісень \"бітла\", ще у 1980-х, що викликало незадоволення тодішньої комуністичної влади Чехословаччини. За більш ніж три десятиріччя стіна не раз \"мутувала\" - старі зображення і лозунги зникали під новими. Але під нею вуличні музиканти й досі виконують безсмертну Imagine. \"Мінливість\" поверхонь з графіті - справа звична. Лондонський район Шордіч, відомий своїм розмаїтим вуличним мистецтвом (туди навіть водять екскурсії), - це, по суті, одна велика змінна експозиція. Наприклад, донедавна на місці цього екзотичного портрета пензля Дейла Грімшо був інший - хоч і того ж маляра. У багатьох європейських містах є свої \"шордічи\" - райони, де графіті присутнє у високих дозах: марсельський Пан\\'є чи вільнюський Ужупіс. Частина історичного центру іспанської Малаги, міста, де народився Пабло Пікассо, - один суцільний мурал. Кожна робота створена в рамках проекту, автори якого прагнули причепурити-омолодити понівечені часом будівлі. Один із найбільш плідних графітистів - Джонатан Моріяс, більш відомий під псевдонімом Doger. А от у центрі Парижа, який архітектурно доволі одноманітний (є навіть термін, аби позначити цю законсервованість: музеїфікація), помітних муралів бракує. Але кілька років тому місцева влада, аби зробити так званий стріт-арт доступнішим, дала згоду на те, аби поряд з Центром сучасного мистецтва Помпіду з\\'явилося подібне зображення. Наслідком став автопортрет \"Тсс!\" Жана-Франсуа Перроя, художника з промовистим професійним ім\\'ям Джеф Аерозоль. Він пояснив, що хотів, аби люди \"зупинилися на п\\'ять хвилин та прислухалися до того, що зазвичай не чують\". У італійського графітиста з псевдонімом Blub, якого свого часу називали флорентійською \"сенсацією\", схожий заклик - тільки він хоче, аби публіка не почула, а побачила те, чого не бачить. На його думку, у місті домінує Ренесанс, і, аби привернути увагу до сучасного, він у різних куточках Флоренції намалював класичні картини - як от цей ангел, що грає на лютні, з галереї Уффіці - у масках і з трубками для підводного плавання. Його твори - абсолютна протилежність стінопису в Неаполі, який часто нагадує акт вандалізму. Але стіни, поцятковані потворними написами, візерунками та дивними істотами, з часом стали характерною рисою цього колоритного італійського міста. Blub працює анонімно - так само, як, здається, найвидатніший представник вуличного живопису в світі - Бенксі (Banksy). Він народився та розпочав свій мистецький шлях в англійському місті Бристоль. На тамтешніх стінах - багато з його найбільш впізнаваних й тиражованих зображень. Якщо на Заході графіті - жанр визнаний, з традиціями, то на мусульманському Близькому Сході художники роблять перші кроки та шукають свій творчий почерк в країнах, де це не заборонено законом. Цей сучасний жіночий портрет у самому центрі марокканського Рабата - лише одна з ілюстрацій.'},\n",
       " {'id': '031017_germanyreform1',\n",
       "  'url': 'https://www.bbc.com/ukrainian/news/story/2003/10/031017_germanyreform1',\n",
       "  'title': 'Німецький парламент ухвалив непопулярні реформи',\n",
       "  'summary': 'Нижня палата німецького парламенту незначною більшістю голосів схвалила урядовий проект соціальних реформ, що, зокрема, передбачає скорочення видатків на соціальні потреби.',\n",
       "  'text': \"Канцлер Ґерхард Шредер каже, що економія коштів у галузі охорони здоров'я, пенсій, а також скорочення допомоги безробітним допоможе подолати економічний застій в країні. Німецькі профспілки назвали цей законопроект зрадою. Консервативна опозиція в Німеччині каже, що пропоновані реформи не надто далекосяжні. Раніше канцлер Ґергард Шредер погрожував піти у відставку, якщо його власна соціал-демократична партія не підтримає його пропозицій.\"}]"
      ]
     },
     "execution_count": 5,
     "metadata": {},
     "output_type": "execute_result"
    }
   ],
   "source": [
    "train_data[:2]"
   ]
  },
  {
   "cell_type": "markdown",
   "metadata": {},
   "source": [
    "# Baseline summarization"
   ]
  },
  {
   "cell_type": "code",
   "execution_count": 6,
   "metadata": {},
   "outputs": [],
   "source": [
    "def three_sentence_summary(text):\n",
    "    return \"\\n\".join(sent_tokenize(text)[:3])\n",
    "\n",
    "def evaluate_baseline(dataset, metric):\n",
    "    summaries = [three_sentence_summary(text['text']) for text in dataset]\n",
    "    references = [item['summary'] for item in dataset]\n",
    "\n",
    "    scores = {'rouge1': [], 'rouge2': [], 'rougeL': []}\n",
    "    for prediction, reference in zip(summaries, references, strict=True):\n",
    "        score = metric.score(prediction, reference)\n",
    "        scores['rouge1'].append(score['rouge1'].fmeasure)\n",
    "        scores['rouge2'].append(score['rouge2'].fmeasure)\n",
    "        scores['rougeL'].append(score['rougeL'].fmeasure)\n",
    "    result = {metric: round((sum(values) / len(values)) * 100, 4) for metric, values in scores.items()}\n",
    "    \n",
    "    return result"
   ]
  },
  {
   "cell_type": "code",
   "execution_count": 7,
   "metadata": {},
   "outputs": [
    {
     "name": "stdout",
     "output_type": "stream",
     "text": [
      "Виступаючи у Верховній Раді, Микола Поліщук сказав, що майже 80% з них - молоді люди віком до 30-ти років.\n",
      "Він також сказав, що найбільш поширеним вживання наркотиків є у Дніпропетровській області та інших південносхідних регіонах.\n",
      "Заява міністра з'явилася на тлі громадських акцій у Донецьку, де лунають скарги на легкість придбання препарату трамадол.\n"
     ]
    }
   ],
   "source": [
    "print(three_sentence_summary(test_data[0][\"text\"]))"
   ]
  },
  {
   "cell_type": "code",
   "execution_count": 11,
   "metadata": {},
   "outputs": [
    {
     "name": "stdout",
     "output_type": "stream",
     "text": [
      "Rouge1: 12.64%\n",
      "Rouge2: 2.62%\n",
      "Rougel: 9.16%\n"
     ]
    }
   ],
   "source": [
    "scorer = rouge_scorer.RougeScorer(['rouge1', 'rouge2', 'rougeL'], use_stemmer=True)\n",
    "\n",
    "results = evaluate_baseline(val_data, scorer)\n",
    "\n",
    "for rouge_metric, rouge_value in results.items():\n",
    "    print(f\"{rouge_metric.capitalize()}: {round(rouge_value, 2)}%\")"
   ]
  },
  {
   "cell_type": "code",
   "execution_count": 8,
   "metadata": {},
   "outputs": [
    {
     "name": "stdout",
     "output_type": "stream",
     "text": [
      "Rouge1: 12.61%\n",
      "Rouge2: 2.6%\n",
      "Rougel: 9.15%\n"
     ]
    }
   ],
   "source": [
    "scorer = rouge_scorer.RougeScorer(['rouge1', 'rouge2', 'rougeL'], use_stemmer=True)\n",
    "\n",
    "results = evaluate_baseline(test_data, scorer)\n",
    "\n",
    "for rouge_metric, rouge_value in results.items():\n",
    "    print(f\"{rouge_metric.capitalize()}: {round(rouge_value, 2)}%\")"
   ]
  },
  {
   "cell_type": "code",
   "execution_count": null,
   "metadata": {},
   "outputs": [],
   "source": []
  }
 ],
 "metadata": {
  "kernelspec": {
   "display_name": "Python 3 (ipykernel)",
   "language": "python",
   "name": "python3"
  },
  "language_info": {
   "codemirror_mode": {
    "name": "ipython",
    "version": 3
   },
   "file_extension": ".py",
   "mimetype": "text/x-python",
   "name": "python",
   "nbconvert_exporter": "python",
   "pygments_lexer": "ipython3",
   "version": "3.10.14"
  }
 },
 "nbformat": 4,
 "nbformat_minor": 2
}
